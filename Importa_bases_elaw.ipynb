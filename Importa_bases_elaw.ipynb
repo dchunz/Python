{
 "cells": [
  {
   "cell_type": "code",
   "execution_count": 1,
   "metadata": {
    "scrolled": true
   },
   "outputs": [
    {
     "name": "stdout",
     "output_type": "stream",
     "text": [
      "Requirement already satisfied: selenium in c:\\users\\2104896513\\anaconda3\\lib\\site-packages (3.141.0)\n",
      "Requirement already satisfied: urllib3 in c:\\users\\2104896513\\anaconda3\\lib\\site-packages (from selenium) (1.25.11)\n",
      "Note: you may need to restart the kernel to use updated packages.\n"
     ]
    }
   ],
   "source": [
    "pip install selenium"
   ]
  },
  {
   "cell_type": "code",
   "execution_count": 51,
   "metadata": {
    "scrolled": true
   },
   "outputs": [
    {
     "name": "stdout",
     "output_type": "stream",
     "text": [
      "Requirement already satisfied: beautifulsoup4 in c:\\users\\2104896513\\anaconda3\\lib\\site-packages (4.9.3)\n",
      "Requirement already satisfied: soupsieve>1.2; python_version >= \"3.0\" in c:\\users\\2104896513\\anaconda3\\lib\\site-packages (from beautifulsoup4) (2.0.1)\n",
      "Note: you may need to restart the kernel to use updated packages.\n"
     ]
    }
   ],
   "source": [
    "pip install beautifulsoup4"
   ]
  },
  {
   "cell_type": "code",
   "execution_count": 12,
   "metadata": {},
   "outputs": [
    {
     "name": "stdout",
     "output_type": "stream",
     "text": [
      "2021-02-18\n",
      "18/2/2021\n",
      "18/02/2021\n"
     ]
    }
   ],
   "source": [
    "from datetime import date\n",
    "\n",
    "data_atual = date.today()\n",
    "print(data_atual)\n",
    "\n",
    "data_em_texto = '{}/{}/{}'.format(data_atual.day, data_atual.month,data_atual.year)\n",
    "print(data_em_texto)\n",
    "\n",
    "data_em_texto = data_atual.strftime('%d/%m/%Y')\n",
    "print(data_em_texto)"
   ]
  },
  {
   "cell_type": "code",
   "execution_count": 15,
   "metadata": {},
   "outputs": [],
   "source": [
    "from selenium import webdriver\n",
    "from selenium.webdriver.common.keys import Keys\n",
    "from bs4 import BeautifulSoup\n",
    "import time\n",
    "browser = webdriver.Chrome()\n",
    "browser.get(\"https://viavarejo.elaw.com.br/\") \n",
    "time.sleep(2)\n",
    "browser.maximize_window()\n",
    "username = browser.find_element_by_id(\"username\")\n",
    "password = browser.find_element_by_id(\"password\")\n",
    "username.send_keys(\"laercio.mariano\")\n",
    "password.send_keys(\"G@bKrak580\")\n",
    "browser.find_element_by_tag_name(\"button\").click()\n",
    "browser.get(\"https://viavarejo.elaw.com.br/userProcessoReportTmpList.elaw?faces-redirect=true\")\n",
    "\n",
    "time.sleep(2)\n",
    "\n",
    "#browser.findElement(By.id(\"calendarInicial_input\")).clear()\n",
    "#browser.findElement(By.id(\"calendarFinal_input\")).clear()\n",
    "\n",
    "#browser.findElement(By.id(\"calendarInicial_input\")).sendKeys(\"03/02/2021\")\n",
    "#browser.findElement(By.id(\"calendarFinal_input\")).sendKeys(\"03/02/2021\")\n",
    "\n",
    "browser.find_element_by_id(\"calendarInicial_input\").clear()\n",
    "browser.find_element_by_id(\"calendarFinal_input\").clear()\n",
    "\n",
    "dataini = browser.find_element_by_id(\"calendarInicial_input\")\n",
    "datafim = browser.find_element_by_id(\"calendarFinal_input\")\n",
    "\n",
    "data_hoje = data_atual.strftime('%d/%m/%Y')\n",
    "\n",
    "dataini.send_keys(data_hoje)\n",
    "datafim.send_keys(data_hoje)\n",
    "\n",
    "time.sleep(2)\n",
    "browser.find_element_by_id(\"btnPesquisar\").click()\n",
    "time.sleep(5)\n",
    "\n",
    "page = BeautifulSoup(browser.page_source,\"html5lib\")\n",
    "\n",
    "cont = 0\n",
    "while cont < len(page.select(\"td a\")):\n",
    "    browser.execute_script(\"return myfaces.oam.submitForm('formProcessoReportTmp','tableProcessoReportTmp:\"+str(cont)+\":j_id_35');\")\n",
    "    cont = cont + 1\n",
    "\n",
    "time.sleep(180)    \n",
    "browser.close()\n",
    "\n",
    "#login_attempt = browser.find_element_by_xpath(\"//*[@type='submit']\")\n",
    "#login_attempt.submit()"
   ]
  },
  {
   "cell_type": "code",
   "execution_count": 2,
   "metadata": {},
   "outputs": [
    {
     "ename": "NameError",
     "evalue": "name 'page' is not defined",
     "output_type": "error",
     "traceback": [
      "\u001b[1;31m---------------------------------------------------------------------------\u001b[0m",
      "\u001b[1;31mNameError\u001b[0m                                 Traceback (most recent call last)",
      "\u001b[1;32m<ipython-input-2-d63090b0da21>\u001b[0m in \u001b[0;36m<module>\u001b[1;34m\u001b[0m\n\u001b[1;32m----> 1\u001b[1;33m \u001b[0mprint\u001b[0m\u001b[1;33m(\u001b[0m\u001b[1;33m(\u001b[0m\u001b[0mlen\u001b[0m\u001b[1;33m(\u001b[0m\u001b[0mpage\u001b[0m\u001b[1;33m.\u001b[0m\u001b[0mselect\u001b[0m\u001b[1;33m(\u001b[0m\u001b[1;34m\"td a\"\u001b[0m\u001b[1;33m)\u001b[0m\u001b[1;33m)\u001b[0m\u001b[1;33m-\u001b[0m\u001b[1;36m1\u001b[0m\u001b[1;33m)\u001b[0m\u001b[1;33m)\u001b[0m\u001b[1;33m\u001b[0m\u001b[1;33m\u001b[0m\u001b[0m\n\u001b[0m",
      "\u001b[1;31mNameError\u001b[0m: name 'page' is not defined"
     ]
    }
   ],
   "source": [
    "print((len(page.select(\"td a\"))-1))"
   ]
  }
 ],
 "metadata": {
  "kernelspec": {
   "display_name": "Python 3",
   "language": "python",
   "name": "python3"
  },
  "language_info": {
   "codemirror_mode": {
    "name": "ipython",
    "version": 3
   },
   "file_extension": ".py",
   "mimetype": "text/x-python",
   "name": "python",
   "nbconvert_exporter": "python",
   "pygments_lexer": "ipython3",
   "version": "3.8.8"
  }
 },
 "nbformat": 4,
 "nbformat_minor": 4
}
